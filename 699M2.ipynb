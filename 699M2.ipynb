{
 "cells": [
  {
   "cell_type": "code",
   "execution_count": 1,
   "id": "73d000b6",
   "metadata": {},
   "outputs": [],
   "source": [
    "import pandas as pd\n",
    "import numpy as np\n",
    "import math as math\n"
   ]
  },
  {
   "cell_type": "code",
   "execution_count": 3,
   "id": "ab8c8147",
   "metadata": {},
   "outputs": [
    {
     "name": "stdout",
     "output_type": "stream",
     "text": [
      "      DUID  PID    DUPERSID  PANEL  DATAYEAR FAMID31 FAMID42 FAMID53 FAMID22  \\\n",
      "0  2460002  101  2460002101     24      2022       A       A       A       A   \n",
      "1  2460006  101  2460006101     24      2022       A       A       A       A   \n",
      "2  2460006  102  2460006102     24      2022       A       A       A       A   \n",
      "3  2460010  101  2460010101     24      2022       A       A       A       A   \n",
      "4  2460018  101  2460018101     24      2022       A       A       A       A   \n",
      "\n",
      "  FAMIDYR  ... RXOSR22  RXPTR22  RXOTH22      PERWT22F      FAMWT22F  \\\n",
      "0       A  ...       0        0        0   5728.309495   5232.211986   \n",
      "1       A  ...       0        0        0  15648.881460  16017.881690   \n",
      "2       A  ...       0        0        0  14123.720180  16017.881690   \n",
      "3       A  ...       0     5288      299  16982.054920  21905.758880   \n",
      "4       A  ...       0       10        0  10682.619950  11344.291010   \n",
      "\n",
      "       FAMWT22C     SAQWT22F     DIABW22F  VARSTR  VARPSU  \n",
      "0   5232.211986   3994.68714  6034.636755    2082       1  \n",
      "1  16017.881690      0.00000     0.000000    2001       4  \n",
      "2  12580.731740      0.00000     0.000000    2001       4  \n",
      "3  21905.758880      0.00000     0.000000    2038       3  \n",
      "4  11344.291010  17152.43941     0.000000    2041       1  \n",
      "\n",
      "[5 rows x 1420 columns]\n"
     ]
    }
   ],
   "source": [
    "\n",
    "df = pd.read_csv(\"The Medical Expenditure Panel Survey (MEPS).csv\")\n",
    "\n",
    "# To check if it loaded correctly\n",
    "print(df.head())"
   ]
  },
  {
   "cell_type": "code",
   "execution_count": 28,
   "id": "8edf5c80",
   "metadata": {},
   "outputs": [
    {
     "data": {
      "text/plain": [
       "<function print(*args, sep=' ', end='\\n', file=None, flush=False)>"
      ]
     },
     "execution_count": 28,
     "metadata": {},
     "output_type": "execute_result"
    }
   ],
   "source": [
    "df.isnull().sum()\n",
    "print"
   ]
  },
  {
   "cell_type": "code",
   "execution_count": null,
   "id": "587438b0",
   "metadata": {},
   "outputs": [
    {
     "name": "stdout",
     "output_type": "stream",
     "text": [
      "       Total Office Based Visit Costs  Total Office Based Visit Costs\n",
      "0                                 248                               3\n",
      "1                               16039                            6735\n",
      "2                                 217                              23\n",
      "3                                1278                             500\n",
      "4                                3530                            2137\n",
      "...                               ...                             ...\n",
      "22426                            1668                             943\n",
      "22427                            3378                            1103\n",
      "22428                            8817                            2530\n",
      "22429                            1391                             815\n",
      "22430                             131                             103\n",
      "\n",
      "[22431 rows x 2 columns]\n",
      "Mean Total Office Based Visit Costs: Total Office Based Visit Costs    2778.106594\n",
      "Total Office Based Visit Costs    1023.217601\n",
      "dtype: float64\n"
     ]
    }
   ],
   "source": [
    "df = df.rename(columns = {'(OFFICE-BASED PHYSICIAN VISIT CHARGES 22)OBDTCH22'\n",
    " : 'Total Office Based Visit Costs','OFTSMK53' : 'Smoking Frequency', 'ADASKALC42' : 'Alcohol Consumption', 'ADSTAL42' : 'Advised to Stop Alcohol',  })\n",
    "\n",
    "print(df['Total Office Based Visit Costs'])\n",
    "\n",
    "\n",
    "col = \"Total Office Based Visit Costs\"\n",
    "print(f\"Mean {col}: {df[col].mean()}\")\n",
    "\n",
    "\n",
    "\n",
    "\n"
   ]
  }
 ],
 "metadata": {
  "kernelspec": {
   "display_name": "Python 3",
   "language": "python",
   "name": "python3"
  },
  "language_info": {
   "codemirror_mode": {
    "name": "ipython",
    "version": 3
   },
   "file_extension": ".py",
   "mimetype": "text/x-python",
   "name": "python",
   "nbconvert_exporter": "python",
   "pygments_lexer": "ipython3",
   "version": "3.12.1"
  }
 },
 "nbformat": 4,
 "nbformat_minor": 5
}
